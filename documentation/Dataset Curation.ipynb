{
 "cells": [
  {
   "cell_type": "markdown",
   "metadata": {},
   "source": [
    "## Filtering the OMOP Dataset\n",
    "\n",
    "At this point in the dataset creation pipeline, the correct vocabulary standards have been applied. We now need to filter invalid records as well as narrow down the dataset to include only patient records that have a usable number of visit records. We decided to filter out any patient record that did not have more than 2 visit records."
   ]
  },
  {
   "cell_type": "markdown",
   "metadata": {},
   "source": [
    "### Filter description\n",
    "\n",
    "Since all of the main clinical tables in OMOP have a person_id reference, we can use it to filter down all the tables. We iterate through all the clinical tables and only select records where the person to whom it belongs has three attributes:\n",
    "    1. The recorded death date is greater than or equal to the largest visit date\n",
    "    2. The recorded birth date is less than or equal to the smallest visit date\n",
    "    3. The patient has at least three unique visits in the OMOP repository"
   ]
  },
  {
   "cell_type": "code",
   "execution_count": 2,
   "metadata": {},
   "outputs": [],
   "source": [
    "def filter_dataset():\n",
    "    tables = [  \n",
    "        'person'\n",
    "        'condition_occurrence',\n",
    "        'death',\n",
    "        'drug_exposure',\n",
    "        'measurement',\n",
    "        'observation',\n",
    "        'observation_period',\n",
    "        'procedure_occurrence',\n",
    "        'visit_occurrence'\n",
    "    ]\n",
    "    \n",
    "    for table in tables:\n",
    "        query = f\"\"\"\n",
    "            SELECT *\n",
    "            FROM amalga.omop.{table} tab\n",
    "            WHERE \n",
    "            NOT EXISTS\n",
    "                (\n",
    "                    SELECT p.person_id\n",
    "                    FROM \n",
    "                        amalga.omop.visit_occurrence v \n",
    "                            RIGHT JOIN \n",
    "                        amalga.omop.person p \n",
    "                            ON p.person_id = v.person_id\n",
    "                    WHERE tab.person_id=p.person_id\n",
    "                    GROUP BY p.person_id, CAST(CAST(p.year_of_birth AS varchar) + '-' + CAST(p.month_of_birth AS varchar) + '-' + CAST(p.day_of_birth AS varchar) AS DATETIME)\n",
    "                    HAVING MIN(visit_start_date) < CAST(CAST(p.year_of_birth AS varchar) + '-' + CAST(p.month_of_birth AS varchar) + '-' + CAST(p.day_of_birth AS varchar) AS DATETIME)\n",
    "                ) AND\n",
    "            NOT EXISTS\n",
    "                (\n",
    "                    SELECT d.person_id\n",
    "                    FROM \n",
    "                        amalga.omop.visit_occurrence v \n",
    "                            RIGHT JOIN \n",
    "                        amalga.omop.death d \n",
    "                            ON d.person_id = v.person_id\n",
    "                    WHERE tab.person_id=d.person_id\n",
    "                    GROUP BY d.person_id, d.death_date\n",
    "                    HAVING MAX(visit_start_date) > d.death_date\n",
    "                ) AND\n",
    "            NOT EXISTS\n",
    "                (\n",
    "                    SELECT v.person_id\n",
    "                    FROM amalga.omop.visit_occurrence v\n",
    "                    WHERE tab.person_id=v.person_id\n",
    "                    GROUP BY v.person_id\n",
    "                    HAVING COUNT( DISTINCT v.visit_occurrence_id) >= 3\n",
    "                );\n",
    "        \"\"\"\n",
    "        output = dbf.query(query)\n",
    "        \n",
    "        return output"
   ]
  },
  {
   "cell_type": "code",
   "execution_count": null,
   "metadata": {},
   "outputs": [],
   "source": []
  }
 ],
 "metadata": {
  "kernelspec": {
   "display_name": "Python 3",
   "language": "python",
   "name": "python3"
  },
  "language_info": {
   "codemirror_mode": {
    "name": "ipython",
    "version": 3
   },
   "file_extension": ".py",
   "mimetype": "text/x-python",
   "name": "python",
   "nbconvert_exporter": "python",
   "pygments_lexer": "ipython3",
   "version": "3.6.8"
  }
 },
 "nbformat": 4,
 "nbformat_minor": 2
}
