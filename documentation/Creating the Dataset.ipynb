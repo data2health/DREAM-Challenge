{
 "cells": [
  {
   "cell_type": "code",
   "execution_count": 2,
   "metadata": {},
   "outputs": [],
   "source": [
    "import pandas as pd\n",
    "import argparse\n",
    "from datetime import datetime\n",
    "import dateutil.relativedelta\n",
    "import os"
   ]
  },
  {
   "cell_type": "markdown",
   "metadata": {},
   "source": [
    "### Database Functions\n",
    "database_functions is a module that we use to connect to OMOP database. It manages the server configurations and creates the connection object for querying. We use the dbf.query() and dbf.chunked_query() functions to manage our SQL queries. "
   ]
  },
  {
   "cell_type": "code",
   "execution_count": 3,
   "metadata": {},
   "outputs": [],
   "source": [
    "import database_functions as dbf"
   ]
  },
  {
   "cell_type": "markdown",
   "metadata": {},
   "source": [
    "# Training Data"
   ]
  },
  {
   "cell_type": "markdown",
   "metadata": {},
   "source": [
    "### Defining the Cutoff Date\n",
    "We define the final date in the training dataset as the date that is 6 months prior to the last recorded death date.\n",
    "Using the death table, we find the max value of from death_date and subtract 6 months from that date."
   ]
  },
  {
   "cell_type": "code",
   "execution_count": 4,
   "metadata": {},
   "outputs": [],
   "source": [
    "def get_cutoff_date():\n",
    "    query = \"\"\"\n",
    "        SELECT MAX(death_datetime) as date\n",
    "        FROM amalga.omop.death\n",
    "    \"\"\"\n",
    "    output = dbf.query(query)\n",
    "    \n",
    "    date = output[\"date\"][0].date()\n",
    "    \n",
    "    cutoff = date - dateutil.relativedelta.relativedelta(months=6)\n",
    "\n",
    "    return cutoff"
   ]
  },
  {
   "cell_type": "markdown",
   "metadata": {},
   "source": [
    "### Creating Dataset with cut off\n",
    "Using the cutoff function above, we pull in the cut off date. We first filter the dataset down to include only people who have at least one visit prior to the cut off. All other persons and their records are ignored.\n",
    "We then ignore all records that have an associated date that is greater than or equal to our cut off date."
   ]
  },
  {
   "cell_type": "code",
   "execution_count": 8,
   "metadata": {},
   "outputs": [],
   "source": [
    "def building_training_sets():\n",
    "\n",
    "    #2018-08-24\n",
    "    cutoff_date = get_cutoff_date().strftime(\"%Y-%m-%d\")\n",
    "\n",
    "    tables_dates = {\n",
    "        'person': 'birth_datetime',\n",
    "        'death': 'death_datetime',\n",
    "        'drug_exposure': 'drug_exposure_start_date',\n",
    "        'observation': 'observation_date',\n",
    "        'observation_period': 'observation_period_start_date',\n",
    "        'visit_occurrence': 'visit_start_date',\n",
    "        'condition_occurrence': 'condition_start_date',\n",
    "        'measurement': 'measurement_date',\n",
    "        'procedure_occurrence': 'procedure_date',\n",
    "    }\n",
    "\n",
    "    for table in tables_dates.keys():\n",
    "        output_file = f\"data/latest/{table}.csv\"\n",
    "        test_set = f\"\"\"\n",
    "            SELECT * \n",
    "            FROM amalga.omop.{table} tab\n",
    "            WHERE EXISTS\n",
    "                (\n",
    "                    SELECT vis.person_id\n",
    "                    FROM amalga.omop.visit_occurrence vis\n",
    "                    WHERE \n",
    "                        vis.visit_start_date < '{cutoff_date}' AND\n",
    "                        vis.person_id=tab.person_id\n",
    "                ) AND\n",
    "                tab.{tables_dates[table]} < '{cutoff_date}';\n",
    "        \"\"\"\n",
    "        data = pd.read_sql_query(test_set, con=dbf.database_connection(), chunksize=8000000)\n",
    "        chunk = 1\n",
    "        \n",
    "        for t in data:\n",
    "            print (table, chunk)\n",
    "            t.to_csv(f\"data/latest/{table}_{chunk}.csv\", index=False)\n",
    "            chunk += 1\n"
   ]
  },
  {
   "cell_type": "markdown",
   "metadata": {},
   "source": [
    "### Merging the Data\n",
    "After this code runs, we merge the files into single tables using bash concatenate."
   ]
  },
  {
   "cell_type": "markdown",
   "metadata": {},
   "source": [
    "# Creating the Benchmark"
   ]
  },
  {
   "cell_type": "markdown",
   "metadata": {},
   "source": [
    "### Defining the benchmark\n",
    "For the mortality prediction challenge, we will ask participants to predict the mortality status of all patients who have had at least one visit in the month preceding the cutoff date. \n",
    "\n",
    "We will ask participants for predictions of patient mortality status for 7 days, 1 month, 3 months, and 6 months from the cutoff date. The participant models will be outputing a two column file that is all the patient_ids of patients who fit the above criteria and a score between 0 and 1 that represents the likelihood that the patient will have passed away in the target time-frame.\n",
    "\n",
    "To create the benchmark prediction file, we need to find all patients who have at least one visit in the month preceding the cutoff date and to pull their death status from the death table for the specified timeframe."
   ]
  },
  {
   "cell_type": "code",
   "execution_count": 10,
   "metadata": {},
   "outputs": [],
   "source": [
    "def finding_benchmark_patients():\n",
    "    \n",
    "    # get the cut off date and turn into string\n",
    "    cutoff_date = get_cutoff_date().strftime(\"%Y-%m-%d\")\n",
    "    \n",
    "    # get the date that is one month before the cut off date\n",
    "    prev_month_start = (get_cutoff_date() - dateutil.relativedelta.relativedelta(months=1)).strftime(\"%Y-%m-%d\")\n",
    "    \n",
    "    \n",
    "    query = f\"\"\"\n",
    "        SELECT p.person_id, d.death_date\n",
    "        FROM amalga.omop.person p OUTER JOIN amalga.omop.death d ON p.person_id = d.person_id\n",
    "        WHERE\n",
    "            EXISTS (\n",
    "                SELECT v.person_id\n",
    "                FROM amalga.omop.visit_occurrence v\n",
    "                WHERE \n",
    "                    v.visit_start_date >= '{prev_month_start}' AND\n",
    "                    v.visit_start_date < '{cutoff_date}'    \n",
    "            )\n",
    "    \"\"\"\n",
    "    return dbf.query(query)"
   ]
  },
  {
   "cell_type": "markdown",
   "metadata": {},
   "source": [
    "Now that we've found all the patients that fit our criteria, we need to create a status file with the mortality status of patients for the specified tiemframe. The function below allows us to create mortality status files."
   ]
  },
  {
   "cell_type": "code",
   "execution_count": 12,
   "metadata": {},
   "outputs": [],
   "source": [
    "def building_goldstandard_files(timeframe):\n",
    "    future_timeframe = get_cutoff_date() + dateutil.relativedelta.relativedelta(days=timeframe)\n",
    "    \n",
    "    def calc_death_status(x, timeframe):\n",
    "        \n",
    "        if x == None:\n",
    "            return 0\n",
    "        elif x < future_timeframe:\n",
    "            return 1\n",
    "        else:\n",
    "            return 0\n",
    "\n",
    "    benchmarks = finding_benchmark_patients()\n",
    "    \n",
    "    benchmarks[\"status\"] = benchmarks[\"death_date\"].apply(lambda x: calc_death_status(x, timeframe))\n",
    "    return benchmarks[[\"person_id\", \"status\"]]"
   ]
  },
  {
   "cell_type": "code",
   "execution_count": null,
   "metadata": {},
   "outputs": [],
   "source": []
  }
 ],
 "metadata": {
  "kernelspec": {
   "display_name": "Python 3",
   "language": "python",
   "name": "python3"
  },
  "language_info": {
   "codemirror_mode": {
    "name": "ipython",
    "version": 3
   },
   "file_extension": ".py",
   "mimetype": "text/x-python",
   "name": "python",
   "nbconvert_exporter": "python",
   "pygments_lexer": "ipython3",
   "version": "3.6.8"
  }
 },
 "nbformat": 4,
 "nbformat_minor": 2
}
